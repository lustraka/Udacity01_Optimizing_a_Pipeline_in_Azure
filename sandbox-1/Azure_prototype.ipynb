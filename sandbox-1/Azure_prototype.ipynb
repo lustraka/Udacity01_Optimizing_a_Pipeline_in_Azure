{
  "cells": [
    {
      "cell_type": "code",
      "source": [
        "from azureml.core import Workspace, Experiment\n",
        "\n",
        "ws = Workspace.from_config()\n",
        "exp = Experiment(workspace=ws, name=\"udacity-project-sandbox\")\n",
        "\n",
        "print('Workspace name: ' + ws.name, \n",
        "      'Azure region: ' + ws.location, \n",
        "      'Subscription id: ' + ws.subscription_id, \n",
        "      'Resource group: ' + ws.resource_group, sep = '\\n')\n",
        "\n",
        "run = exp.start_logging()"
      ],
      "outputs": [
        {
          "output_type": "stream",
          "name": "stdout",
          "text": [
            "Workspace name: quick-starts-ws-147353\n",
            "Azure region: southcentralus\n",
            "Subscription id: 2c48c51c-bd47-40d4-abbe-fb8eabd19c8c\n",
            "Resource group: aml-quickstarts-147353\n"
          ]
        }
      ],
      "execution_count": 1,
      "metadata": {
        "gather": {
          "logged": 1623940893303
        }
      },
      "id": "0491c040"
    },
    {
      "cell_type": "code",
      "source": [
        "from azureml.data.dataset_factory import TabularDatasetFactory\n",
        "\n",
        "# Create TabularDataset using TabularDatasetFactory\n",
        "# Data is available at: \n",
        "url_path = \"https://automlsamplenotebookdata.blob.core.windows.net/automl-sample-notebook-data/bankmarketing_train.csv\"\n",
        "ds = TabularDatasetFactory.from_delimited_files(url_path)"
      ],
      "outputs": [],
      "execution_count": 2,
      "metadata": {
        "gather": {
          "logged": 1623930683124
        }
      },
      "id": "96265a15"
    },
    {
      "cell_type": "code",
      "source": [
        "from sklearn.linear_model import LogisticRegression\n",
        "import argparse\n",
        "import os\n",
        "import numpy as np\n",
        "from sklearn.metrics import mean_squared_error\n",
        "import joblib\n",
        "from sklearn.model_selection import train_test_split\n",
        "from sklearn.preprocessing import OneHotEncoder\n",
        "import pandas as pd\n",
        "from azureml.core.run import Run\n",
        "from azureml.data.dataset_factory import TabularDatasetFactory\n",
        "\n",
        "def get_X_y(ds, encode_cat='onehot'):\n",
        "  \"\"\"Prepare features and a target in line with exploratory data analysis.\n",
        "  For `encode_cat` parameter use either 'onehot' or 'label'.\"\"\"\n",
        "  \n",
        "  df = ds.to_pandas_dataframe()\n",
        "\n",
        "  # Separate and encode the target\n",
        "  y = df.pop('y').apply(lambda s: 1 if s == 'yes' else 0)\n",
        "\n",
        "  # Binarize 'pdays' feature, as it doesn't matter how many days passed\n",
        "  # due to prevalence of 'no previous contact' cases (31728)\n",
        "  df['pdays'] = df['pdays'].apply(lambda i: 0 if i == 999 else 1)\n",
        "\n",
        "  # Drop a potential data leakage columns including\n",
        "  # high correlated 'duration (of a call)' (coef 0.41).\n",
        "  # Features related with the last contact of the current\n",
        "  # campaign are not known when planning a new campaign!\n",
        "  for col in ['contact', 'month', 'day_of_week', 'duration', 'campaign']:\n",
        "    df.drop(col, axis=1, inplace=True)\n",
        "\n",
        "  # Drop an uninformative column 'default'\n",
        "  # which has only 3 'yes'.\n",
        "  df.drop('default', axis=1, inplace=True)\n",
        "\n",
        "  # Encode the non-numeric columns\n",
        "  for col in df.select_dtypes('object').columns:\n",
        "    if encode_cat == 'onehot':\n",
        "      df = df.join(pd.get_dummies(df[col], prefix=col))\n",
        "      df.drop(col, axis=1, inplace=True)\n",
        "    else:  # Label encoding\n",
        "      df[col], _ = df[col].factorize()\n",
        "\n",
        "  # Return features and the target\n",
        "  return df, y\n",
        "\n",
        "x, y = get_X_y(ds)\n",
        "\n",
        "# Split data into train and test sets.\n",
        "x_train, x_test, y_train, y_test = train_test_split(x, y)\n",
        "\n",
        "run = Run.get_context()"
      ],
      "outputs": [],
      "execution_count": 4,
      "metadata": {
        "gather": {
          "logged": 1623930791834
        }
      },
      "id": "c1fe1e05"
    },
    {
      "cell_type": "code",
      "source": [
        "# {'HD_e4b3104d-85f8-4dee-9199-e43169793e91_19': {'Regularization Strength:': 0.5821967047494767, 'Max iterations:': 10, 'accuracy': 0.8861374119932023}\r\n",
        "C = 0.5821967047494767\r\n",
        "max_iter = 50\r\n",
        "model = LogisticRegression(C=C, max_iter=max_iter).fit(x_train, y_train)"
      ],
      "outputs": [
        {
          "output_type": "stream",
          "name": "stderr",
          "text": [
            "/anaconda/envs/azureml_py38/lib/python3.8/site-packages/sklearn/linear_model/_logistic.py:938: ConvergenceWarning: lbfgs failed to converge (status=1):\n",
            "STOP: TOTAL NO. of ITERATIONS REACHED LIMIT.\n",
            "\n",
            "Increase the number of iterations (max_iter) or scale the data as shown in:\n",
            "    https://scikit-learn.org/stable/modules/preprocessing.html\n",
            "Please also refer to the documentation for alternative solver options:\n",
            "    https://scikit-learn.org/stable/modules/linear_model.html#logistic-regression\n",
            "  n_iter_i = _check_optimize_result(\n"
          ]
        }
      ],
      "execution_count": 9,
      "metadata": {
        "gather": {
          "logged": 1623931318110
        }
      },
      "id": "0dbb1e91"
    },
    {
      "cell_type": "code",
      "source": [
        "model.score(x_test, y_test)"
      ],
      "outputs": [
        {
          "output_type": "execute_result",
          "execution_count": 10,
          "data": {
            "text/plain": "0.8874726875455208"
          },
          "metadata": {}
        }
      ],
      "execution_count": 10,
      "metadata": {
        "collapsed": true,
        "jupyter": {
          "source_hidden": false,
          "outputs_hidden": false
        },
        "nteract": {
          "transient": {
            "deleting": false
          }
        },
        "gather": {
          "logged": 1623931337594
        }
      },
      "id": "363931f8-a2bd-4277-a836-47f0c64a5f20"
    },
    {
      "cell_type": "code",
      "source": [
        "import os\r\n",
        "os.listdir()"
      ],
      "outputs": [
        {
          "output_type": "execute_result",
          "execution_count": 5,
          "data": {
            "text/plain": "['.amlignore',\n '.amlignore.amltmp',\n '.config',\n '.ipynb_aml_checkpoints',\n 'Azure_clipboard.py',\n 'Azure_prototype.ipynb',\n 'azure_prototype.ipynb.amltmp',\n 'Colab_BankMarketingEDA.ipynb',\n 'Colab_BankMarketingExperiments.ipynb',\n 'outputs']"
          },
          "metadata": {}
        }
      ],
      "execution_count": 5,
      "metadata": {
        "collapsed": true,
        "jupyter": {
          "source_hidden": false,
          "outputs_hidden": false
        },
        "nteract": {
          "transient": {
            "deleting": false
          }
        },
        "gather": {
          "logged": 1623941993498
        }
      },
      "id": "2239a2a7-b8f7-4004-9c32-58fe8f023273"
    },
    {
      "cell_type": "code",
      "source": [
        "os.listdir('./outputs/')"
      ],
      "outputs": [
        {
          "output_type": "execute_result",
          "execution_count": 8,
          "data": {
            "text/plain": "[]"
          },
          "metadata": {}
        }
      ],
      "execution_count": 8,
      "metadata": {
        "collapsed": true,
        "jupyter": {
          "source_hidden": false,
          "outputs_hidden": false
        },
        "nteract": {
          "transient": {
            "deleting": false
          }
        },
        "gather": {
          "logged": 1623942244117
        }
      },
      "id": "da010e0e-1abe-4077-961c-9ef72266ad12"
    },
    {
      "cell_type": "code",
      "source": [],
      "outputs": [],
      "execution_count": null,
      "metadata": {
        "collapsed": true,
        "jupyter": {
          "source_hidden": false,
          "outputs_hidden": false
        },
        "nteract": {
          "transient": {
            "deleting": false
          }
        }
      },
      "id": "b5b6553d-8100-4307-ad23-6481f2a10c51"
    }
  ],
  "metadata": {
    "kernelspec": {
      "name": "python38-azureml",
      "language": "python",
      "display_name": "Python 3.8 - AzureML"
    },
    "language_info": {
      "name": "python",
      "version": "3.8.1",
      "mimetype": "text/x-python",
      "codemirror_mode": {
        "name": "ipython",
        "version": 3
      },
      "pygments_lexer": "ipython3",
      "nbconvert_exporter": "python",
      "file_extension": ".py"
    },
    "kernel_info": {
      "name": "python38-azureml"
    },
    "nteract": {
      "version": "nteract-front-end@1.0.0"
    },
    "microsoft": {
      "host": {
        "AzureML": {
          "notebookHasBeenCompleted": true
        }
      }
    }
  },
  "nbformat": 4,
  "nbformat_minor": 5
}