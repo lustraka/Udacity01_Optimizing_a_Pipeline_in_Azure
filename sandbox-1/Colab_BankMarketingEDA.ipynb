{
  "nbformat": 4,
  "nbformat_minor": 0,
  "metadata": {
    "colab": {
      "name": "Colab-BankMarketingEDA.ipynb",
      "provenance": [],
      "collapsed_sections": [],
      "authorship_tag": "ABX9TyNqB2hUKTUE8FqHtwHKkpdO",
      "include_colab_link": true
    },
    "kernelspec": {
      "name": "python3",
      "display_name": "Python 3"
    },
    "language_info": {
      "name": "python"
    }
  },
  "cells": [
    {
      "cell_type": "markdown",
      "metadata": {
        "id": "view-in-github",
        "colab_type": "text"
      },
      "source": [
        "<a href=\"https://colab.research.google.com/github/lustraka/nd00333_AZMLND_Optimizing_a_Pipeline_in_Azure-Starter_Files/blob/master/sandbox-1/Colab_BankMarketingEDA.ipynb\" target=\"_parent\"><img src=\"https://colab.research.google.com/assets/colab-badge.svg\" alt=\"Open In Colab\"/></a>"
      ]
    },
    {
      "cell_type": "code",
      "metadata": {
        "id": "6cuj84qIGgYh"
      },
      "source": [
        "import pandas as pd\n",
        "import numpy as np"
      ],
      "execution_count": 1,
      "outputs": []
    },
    {
      "cell_type": "code",
      "metadata": {
        "id": "-NEvOzjvG345"
      },
      "source": [
        "url_path = \"https://automlsamplenotebookdata.blob.core.windows.net/automl-sample-notebook-data/bankmarketing_train.csv\""
      ],
      "execution_count": 2,
      "outputs": []
    },
    {
      "cell_type": "code",
      "metadata": {
        "colab": {
          "base_uri": "https://localhost:8080/"
        },
        "id": "yWjrb1W9G-ht",
        "outputId": "8d7aab60-89dd-405e-f7bc-4c4c80503b0a"
      },
      "source": [
        "df = pd.read_csv(url_path)\n",
        "df.info()"
      ],
      "execution_count": 3,
      "outputs": [
        {
          "output_type": "stream",
          "text": [
            "<class 'pandas.core.frame.DataFrame'>\n",
            "RangeIndex: 32950 entries, 0 to 32949\n",
            "Data columns (total 21 columns):\n",
            " #   Column          Non-Null Count  Dtype  \n",
            "---  ------          --------------  -----  \n",
            " 0   age             32950 non-null  int64  \n",
            " 1   job             32950 non-null  object \n",
            " 2   marital         32950 non-null  object \n",
            " 3   education       32950 non-null  object \n",
            " 4   default         32950 non-null  object \n",
            " 5   housing         32950 non-null  object \n",
            " 6   loan            32950 non-null  object \n",
            " 7   contact         32950 non-null  object \n",
            " 8   month           32950 non-null  object \n",
            " 9   day_of_week     32950 non-null  object \n",
            " 10  duration        32950 non-null  int64  \n",
            " 11  campaign        32950 non-null  int64  \n",
            " 12  pdays           32950 non-null  int64  \n",
            " 13  previous        32950 non-null  int64  \n",
            " 14  poutcome        32950 non-null  object \n",
            " 15  emp.var.rate    32950 non-null  float64\n",
            " 16  cons.price.idx  32950 non-null  float64\n",
            " 17  cons.conf.idx   32950 non-null  float64\n",
            " 18  euribor3m       32950 non-null  float64\n",
            " 19  nr.employed     32950 non-null  float64\n",
            " 20  y               32950 non-null  object \n",
            "dtypes: float64(5), int64(5), object(11)\n",
            "memory usage: 5.3+ MB\n"
          ],
          "name": "stdout"
        }
      ]
    },
    {
      "cell_type": "code",
      "metadata": {
        "colab": {
          "base_uri": "https://localhost:8080/",
          "height": 297
        },
        "id": "-S1dyx_v5Zga",
        "outputId": "4bd0cd58-1f8f-4fab-b949-cd5b7e434958"
      },
      "source": [
        "df.describe().round(3)"
      ],
      "execution_count": 4,
      "outputs": [
        {
          "output_type": "execute_result",
          "data": {
            "text/html": [
              "<div>\n",
              "<style scoped>\n",
              "    .dataframe tbody tr th:only-of-type {\n",
              "        vertical-align: middle;\n",
              "    }\n",
              "\n",
              "    .dataframe tbody tr th {\n",
              "        vertical-align: top;\n",
              "    }\n",
              "\n",
              "    .dataframe thead th {\n",
              "        text-align: right;\n",
              "    }\n",
              "</style>\n",
              "<table border=\"1\" class=\"dataframe\">\n",
              "  <thead>\n",
              "    <tr style=\"text-align: right;\">\n",
              "      <th></th>\n",
              "      <th>age</th>\n",
              "      <th>duration</th>\n",
              "      <th>campaign</th>\n",
              "      <th>pdays</th>\n",
              "      <th>previous</th>\n",
              "      <th>emp.var.rate</th>\n",
              "      <th>cons.price.idx</th>\n",
              "      <th>cons.conf.idx</th>\n",
              "      <th>euribor3m</th>\n",
              "      <th>nr.employed</th>\n",
              "    </tr>\n",
              "  </thead>\n",
              "  <tbody>\n",
              "    <tr>\n",
              "      <th>count</th>\n",
              "      <td>32950.000</td>\n",
              "      <td>32950.000</td>\n",
              "      <td>32950.000</td>\n",
              "      <td>32950.000</td>\n",
              "      <td>32950.000</td>\n",
              "      <td>32950.000</td>\n",
              "      <td>32950.000</td>\n",
              "      <td>32950.000</td>\n",
              "      <td>32950.000</td>\n",
              "      <td>32950.000</td>\n",
              "    </tr>\n",
              "    <tr>\n",
              "      <th>mean</th>\n",
              "      <td>40.040</td>\n",
              "      <td>257.335</td>\n",
              "      <td>2.562</td>\n",
              "      <td>962.175</td>\n",
              "      <td>0.175</td>\n",
              "      <td>0.076</td>\n",
              "      <td>93.574</td>\n",
              "      <td>-40.519</td>\n",
              "      <td>3.616</td>\n",
              "      <td>5166.860</td>\n",
              "    </tr>\n",
              "    <tr>\n",
              "      <th>std</th>\n",
              "      <td>10.432</td>\n",
              "      <td>257.332</td>\n",
              "      <td>2.764</td>\n",
              "      <td>187.647</td>\n",
              "      <td>0.497</td>\n",
              "      <td>1.572</td>\n",
              "      <td>0.579</td>\n",
              "      <td>4.623</td>\n",
              "      <td>1.736</td>\n",
              "      <td>72.208</td>\n",
              "    </tr>\n",
              "    <tr>\n",
              "      <th>min</th>\n",
              "      <td>17.000</td>\n",
              "      <td>0.000</td>\n",
              "      <td>1.000</td>\n",
              "      <td>0.000</td>\n",
              "      <td>0.000</td>\n",
              "      <td>-3.400</td>\n",
              "      <td>92.201</td>\n",
              "      <td>-50.800</td>\n",
              "      <td>0.634</td>\n",
              "      <td>4963.600</td>\n",
              "    </tr>\n",
              "    <tr>\n",
              "      <th>25%</th>\n",
              "      <td>32.000</td>\n",
              "      <td>102.000</td>\n",
              "      <td>1.000</td>\n",
              "      <td>999.000</td>\n",
              "      <td>0.000</td>\n",
              "      <td>-1.800</td>\n",
              "      <td>93.075</td>\n",
              "      <td>-42.700</td>\n",
              "      <td>1.344</td>\n",
              "      <td>5099.100</td>\n",
              "    </tr>\n",
              "    <tr>\n",
              "      <th>50%</th>\n",
              "      <td>38.000</td>\n",
              "      <td>179.000</td>\n",
              "      <td>2.000</td>\n",
              "      <td>999.000</td>\n",
              "      <td>0.000</td>\n",
              "      <td>1.100</td>\n",
              "      <td>93.749</td>\n",
              "      <td>-41.800</td>\n",
              "      <td>4.857</td>\n",
              "      <td>5191.000</td>\n",
              "    </tr>\n",
              "    <tr>\n",
              "      <th>75%</th>\n",
              "      <td>47.000</td>\n",
              "      <td>318.000</td>\n",
              "      <td>3.000</td>\n",
              "      <td>999.000</td>\n",
              "      <td>0.000</td>\n",
              "      <td>1.400</td>\n",
              "      <td>93.994</td>\n",
              "      <td>-36.400</td>\n",
              "      <td>4.961</td>\n",
              "      <td>5228.100</td>\n",
              "    </tr>\n",
              "    <tr>\n",
              "      <th>max</th>\n",
              "      <td>98.000</td>\n",
              "      <td>4918.000</td>\n",
              "      <td>56.000</td>\n",
              "      <td>999.000</td>\n",
              "      <td>7.000</td>\n",
              "      <td>1.400</td>\n",
              "      <td>94.767</td>\n",
              "      <td>-26.900</td>\n",
              "      <td>5.045</td>\n",
              "      <td>5228.100</td>\n",
              "    </tr>\n",
              "  </tbody>\n",
              "</table>\n",
              "</div>"
            ],
            "text/plain": [
              "             age   duration   campaign  ...  cons.conf.idx  euribor3m  nr.employed\n",
              "count  32950.000  32950.000  32950.000  ...      32950.000  32950.000    32950.000\n",
              "mean      40.040    257.335      2.562  ...        -40.519      3.616     5166.860\n",
              "std       10.432    257.332      2.764  ...          4.623      1.736       72.208\n",
              "min       17.000      0.000      1.000  ...        -50.800      0.634     4963.600\n",
              "25%       32.000    102.000      1.000  ...        -42.700      1.344     5099.100\n",
              "50%       38.000    179.000      2.000  ...        -41.800      4.857     5191.000\n",
              "75%       47.000    318.000      3.000  ...        -36.400      4.961     5228.100\n",
              "max       98.000   4918.000     56.000  ...        -26.900      5.045     5228.100\n",
              "\n",
              "[8 rows x 10 columns]"
            ]
          },
          "metadata": {
            "tags": []
          },
          "execution_count": 4
        }
      ]
    },
    {
      "cell_type": "code",
      "metadata": {
        "colab": {
          "base_uri": "https://localhost:8080/"
        },
        "id": "lG1YEPMU6E56",
        "outputId": "5d3f4bd8-fa95-4b8c-f94b-9841767c2928"
      },
      "source": [
        "for col in ['pdays', 'previous']:\n",
        "  print(df.groupby(col)[col].count())"
      ],
      "execution_count": 5,
      "outputs": [
        {
          "output_type": "stream",
          "text": [
            "pdays\n",
            "0         12\n",
            "1         22\n",
            "2         55\n",
            "3        350\n",
            "4         93\n",
            "5         39\n",
            "6        326\n",
            "7         47\n",
            "8         13\n",
            "9         54\n",
            "10        39\n",
            "11        24\n",
            "12        48\n",
            "13        30\n",
            "14        16\n",
            "15        22\n",
            "16         8\n",
            "17         7\n",
            "18         7\n",
            "19         3\n",
            "20         1\n",
            "21         2\n",
            "22         2\n",
            "26         1\n",
            "27         1\n",
            "999    31728\n",
            "Name: pdays, dtype: int64\n",
            "previous\n",
            "0    28394\n",
            "1     3703\n",
            "2      603\n",
            "3      175\n",
            "4       56\n",
            "5       14\n",
            "6        4\n",
            "7        1\n",
            "Name: previous, dtype: int64\n"
          ],
          "name": "stdout"
        }
      ]
    },
    {
      "cell_type": "code",
      "metadata": {
        "colab": {
          "base_uri": "https://localhost:8080/",
          "height": 281
        },
        "id": "nxbzgwZBTbvf",
        "outputId": "024cc823-3030-44c2-d538-9d854cd1cade"
      },
      "source": [
        "y_count = df.groupby(by='y')['y'].count()\n",
        "y_count.plot.pie(title=f'A proportion of successful deals is {y_count.values[1]/y_count.values.sum():.2%}.')"
      ],
      "execution_count": 6,
      "outputs": [
        {
          "output_type": "execute_result",
          "data": {
            "text/plain": [
              "<matplotlib.axes._subplots.AxesSubplot at 0x7f88b530cf90>"
            ]
          },
          "metadata": {
            "tags": []
          },
          "execution_count": 6
        },
        {
          "output_type": "display_data",
          "data": {
            "image/png": "[encoded data removed]",
            "text/plain": [
              "<Figure size 432x288 with 1 Axes>"
            ]
          },
          "metadata": {
            "tags": []
          }
        }
      ]
    },
    {
      "cell_type": "code",
      "metadata": {
        "colab": {
          "base_uri": "https://localhost:8080/"
        },
        "id": "R7eajcd0YhH-",
        "outputId": "742c70fc-825c-495e-9cec-83f79b25b4bb"
      },
      "source": [
        "dflb = df.copy()\n",
        "for col in dflb.select_dtypes('object'):\n",
        "  dflb[col], _ = dflb[col].factorize()\n",
        "dflb.info()"
      ],
      "execution_count": 7,
      "outputs": [
        {
          "output_type": "stream",
          "text": [
            "<class 'pandas.core.frame.DataFrame'>\n",
            "RangeIndex: 32950 entries, 0 to 32949\n",
            "Data columns (total 21 columns):\n",
            " #   Column          Non-Null Count  Dtype  \n",
            "---  ------          --------------  -----  \n",
            " 0   age             32950 non-null  int64  \n",
            " 1   job             32950 non-null  int64  \n",
            " 2   marital         32950 non-null  int64  \n",
            " 3   education       32950 non-null  int64  \n",
            " 4   default         32950 non-null  int64  \n",
            " 5   housing         32950 non-null  int64  \n",
            " 6   loan            32950 non-null  int64  \n",
            " 7   contact         32950 non-null  int64  \n",
            " 8   month           32950 non-null  int64  \n",
            " 9   day_of_week     32950 non-null  int64  \n",
            " 10  duration        32950 non-null  int64  \n",
            " 11  campaign        32950 non-null  int64  \n",
            " 12  pdays           32950 non-null  int64  \n",
            " 13  previous        32950 non-null  int64  \n",
            " 14  poutcome        32950 non-null  int64  \n",
            " 15  emp.var.rate    32950 non-null  float64\n",
            " 16  cons.price.idx  32950 non-null  float64\n",
            " 17  cons.conf.idx   32950 non-null  float64\n",
            " 18  euribor3m       32950 non-null  float64\n",
            " 19  nr.employed     32950 non-null  float64\n",
            " 20  y               32950 non-null  int64  \n",
            "dtypes: float64(5), int64(16)\n",
            "memory usage: 5.3 MB\n"
          ],
          "name": "stdout"
        }
      ]
    },
    {
      "cell_type": "code",
      "metadata": {
        "colab": {
          "base_uri": "https://localhost:8080/"
        },
        "id": "fdbLVKLJlLyM",
        "outputId": "246d47d2-2694-4c7a-b32a-3a4704d35600"
      },
      "source": [
        "corrwith_y = dflb.corrwith(dflb.y).round(4)\n",
        "corrwith_y.loc[corrwith_y.abs() > 0.1].sort_values(key=np.abs, ascending=False)"
      ],
      "execution_count": 8,
      "outputs": [
        {
          "output_type": "execute_result",
          "data": {
            "text/plain": [
              "y                 1.0000\n",
              "duration          0.4054\n",
              "nr.employed      -0.3532\n",
              "pdays            -0.3219\n",
              "euribor3m        -0.3055\n",
              "emp.var.rate     -0.2963\n",
              "previous          0.2288\n",
              "month             0.1915\n",
              "contact          -0.1436\n",
              "cons.price.idx   -0.1346\n",
              "poutcome          0.1310\n",
              "dtype: float64"
            ]
          },
          "metadata": {
            "tags": []
          },
          "execution_count": 8
        }
      ]
    },
    {
      "cell_type": "code",
      "metadata": {
        "colab": {
          "base_uri": "https://localhost:8080/"
        },
        "id": "hdzX8vZkdZyu",
        "outputId": "6a77957c-cf4c-4eef-ac98-ce6cb91abf0c"
      },
      "source": [
        "dfoh = df.copy()\n",
        "for col in dfoh.select_dtypes('object').columns:\n",
        "  if col != 'y':\n",
        "    dfoh = dfoh.join(pd.get_dummies(dfoh[col], prefix=str(col)))\n",
        "    dfoh.drop(col, axis=1, inplace=True)\n",
        "  else:\n",
        "    dfoh[col], _ = df[col].factorize()\n",
        "\n",
        "dfoh.shape"
      ],
      "execution_count": 9,
      "outputs": [
        {
          "output_type": "execute_result",
          "data": {
            "text/plain": [
              "(32950, 64)"
            ]
          },
          "metadata": {
            "tags": []
          },
          "execution_count": 9
        }
      ]
    },
    {
      "cell_type": "code",
      "metadata": {
        "colab": {
          "base_uri": "https://localhost:8080/"
        },
        "id": "BPMw0cTZrniZ",
        "outputId": "32942f14-a295-4af8-dded-0ea34a8a1747"
      },
      "source": [
        "for col in dfoh.columns:\n",
        "  if '_' in col:\n",
        "    print(col + '\\t', dfoh[col].sum())"
      ],
      "execution_count": 10,
      "outputs": [
        {
          "output_type": "stream",
          "text": [
            "job_admin.\t 8339\n",
            "job_blue-collar\t 7356\n",
            "job_entrepreneur\t 1193\n",
            "job_housemaid\t 854\n",
            "job_management\t 2343\n",
            "job_retired\t 1388\n",
            "job_self-employed\t 1140\n",
            "job_services\t 3161\n",
            "job_student\t 682\n",
            "job_technician\t 5426\n",
            "job_unemployed\t 793\n",
            "job_unknown\t 275\n",
            "marital_divorced\t 3676\n",
            "marital_married\t 19966\n",
            "marital_single\t 9242\n",
            "marital_unknown\t 66\n",
            "education_basic.4y\t 3333\n",
            "education_basic.6y\t 1847\n",
            "education_basic.9y\t 4860\n",
            "education_high.school\t 7553\n",
            "education_illiterate\t 15\n",
            "education_professional.course\t 4229\n",
            "education_university.degree\t 9717\n",
            "education_unknown\t 1396\n",
            "default_no\t 26064\n",
            "default_unknown\t 6883\n",
            "default_yes\t 3\n",
            "housing_no\t 14936\n",
            "housing_unknown\t 782\n",
            "housing_yes\t 17232\n",
            "loan_no\t 27166\n",
            "loan_unknown\t 782\n",
            "loan_yes\t 5002\n",
            "contact_cellular\t 20946\n",
            "contact_telephone\t 12004\n",
            "month_apr\t 2108\n",
            "month_aug\t 4882\n",
            "month_dec\t 144\n",
            "month_jul\t 5753\n",
            "month_jun\t 4251\n",
            "month_mar\t 421\n",
            "month_may\t 11073\n",
            "month_nov\t 3296\n",
            "month_oct\t 569\n",
            "month_sep\t 453\n",
            "day_of_week_fri\t 6259\n",
            "day_of_week_mon\t 6802\n",
            "day_of_week_thu\t 6937\n",
            "day_of_week_tue\t 6484\n",
            "day_of_week_wed\t 6468\n",
            "poutcome_failure\t 3451\n",
            "poutcome_nonexistent\t 28394\n",
            "poutcome_success\t 1105\n"
          ],
          "name": "stdout"
        }
      ]
    },
    {
      "cell_type": "code",
      "metadata": {
        "id": "kSX7h2VVf8gY"
      },
      "source": [
        "def get_X_y(data, encode_cat='onehot'):\n",
        "  \"\"\"Prepare features and a target in line with exploratory data analysis.\n",
        "  For `encode_cat` use either 'onehot' or 'label'.\"\"\"\n",
        "  \n",
        "  df = data.copy()\n",
        "\n",
        "  # Separate and encode the target\n",
        "  y = df.pop('y').apply(lambda s: 1 if s == 'yes' else 0)\n",
        "\n",
        "  # Binarize 'pdays' feature, as it doesn't matter how many days passed\n",
        "  # due to prevalence of 'no previous contact' cases (31728)\n",
        "  df['pdays'] = df['pdays'].apply(lambda i: 0 if i == 999 else 1)\n",
        "\n",
        "  # Drop a potential data leakage columns including\n",
        "  # high correlated 'duration (of a call)' (coef 0.41).\n",
        "  # Features related with the last contact of the current\n",
        "  # campaign are not know while planning a new campaign!\n",
        "  for col in ['contact', 'month', 'day_of_week', 'duration', 'campaign']:\n",
        "    df.drop(col, axis=1, inplace=True)\n",
        "\n",
        "  # Drop an uninformative column 'default'\n",
        "  # which has only 3 'yes'.\n",
        "  df.drop('default', axis=1, inplace=True)\n",
        "\n",
        "  # Encode the non-numeric columns\n",
        "  for col in df.select_dtypes('object').columns:\n",
        "    if encode_cat == 'onehot':\n",
        "      df = df.join(pd.get_dummies(df[col], prefix=col))\n",
        "      df.drop(col, axis=1, inplace=True)\n",
        "    else:  # Label encoding\n",
        "      df[col], _ = df[col].factorize()\n",
        "\n",
        "  # Return features and the target\n",
        "  return df, y"
      ],
      "execution_count": 11,
      "outputs": []
    },
    {
      "cell_type": "code",
      "metadata": {
        "colab": {
          "base_uri": "https://localhost:8080/"
        },
        "id": "6XJZBr5OkPT0",
        "outputId": "d3bd1db2-0b97-440c-bed4-77fdc046e6e7"
      },
      "source": [
        "x, y = get_X_y(df, 'onehot')\n",
        "x.shape, y.shape"
      ],
      "execution_count": 12,
      "outputs": [
        {
          "output_type": "execute_result",
          "data": {
            "text/plain": [
              "((32950, 41), (32950,))"
            ]
          },
          "metadata": {
            "tags": []
          },
          "execution_count": 12
        }
      ]
    },
    {
      "cell_type": "code",
      "metadata": {
        "colab": {
          "base_uri": "https://localhost:8080/"
        },
        "id": "zdTgrDSmx4DR",
        "outputId": "7f506c4c-006d-4331-c97e-639b6cad8f9d"
      },
      "source": [
        "x.info()"
      ],
      "execution_count": 13,
      "outputs": [
        {
          "output_type": "stream",
          "text": [
            "<class 'pandas.core.frame.DataFrame'>\n",
            "RangeIndex: 32950 entries, 0 to 32949\n",
            "Data columns (total 41 columns):\n",
            " #   Column                         Non-Null Count  Dtype  \n",
            "---  ------                         --------------  -----  \n",
            " 0   age                            32950 non-null  int64  \n",
            " 1   pdays                          32950 non-null  int64  \n",
            " 2   previous                       32950 non-null  int64  \n",
            " 3   emp.var.rate                   32950 non-null  float64\n",
            " 4   cons.price.idx                 32950 non-null  float64\n",
            " 5   cons.conf.idx                  32950 non-null  float64\n",
            " 6   euribor3m                      32950 non-null  float64\n",
            " 7   nr.employed                    32950 non-null  float64\n",
            " 8   job_admin.                     32950 non-null  uint8  \n",
            " 9   job_blue-collar                32950 non-null  uint8  \n",
            " 10  job_entrepreneur               32950 non-null  uint8  \n",
            " 11  job_housemaid                  32950 non-null  uint8  \n",
            " 12  job_management                 32950 non-null  uint8  \n",
            " 13  job_retired                    32950 non-null  uint8  \n",
            " 14  job_self-employed              32950 non-null  uint8  \n",
            " 15  job_services                   32950 non-null  uint8  \n",
            " 16  job_student                    32950 non-null  uint8  \n",
            " 17  job_technician                 32950 non-null  uint8  \n",
            " 18  job_unemployed                 32950 non-null  uint8  \n",
            " 19  job_unknown                    32950 non-null  uint8  \n",
            " 20  marital_divorced               32950 non-null  uint8  \n",
            " 21  marital_married                32950 non-null  uint8  \n",
            " 22  marital_single                 32950 non-null  uint8  \n",
            " 23  marital_unknown                32950 non-null  uint8  \n",
            " 24  education_basic.4y             32950 non-null  uint8  \n",
            " 25  education_basic.6y             32950 non-null  uint8  \n",
            " 26  education_basic.9y             32950 non-null  uint8  \n",
            " 27  education_high.school          32950 non-null  uint8  \n",
            " 28  education_illiterate           32950 non-null  uint8  \n",
            " 29  education_professional.course  32950 non-null  uint8  \n",
            " 30  education_university.degree    32950 non-null  uint8  \n",
            " 31  education_unknown              32950 non-null  uint8  \n",
            " 32  housing_no                     32950 non-null  uint8  \n",
            " 33  housing_unknown                32950 non-null  uint8  \n",
            " 34  housing_yes                    32950 non-null  uint8  \n",
            " 35  loan_no                        32950 non-null  uint8  \n",
            " 36  loan_unknown                   32950 non-null  uint8  \n",
            " 37  loan_yes                       32950 non-null  uint8  \n",
            " 38  poutcome_failure               32950 non-null  uint8  \n",
            " 39  poutcome_nonexistent           32950 non-null  uint8  \n",
            " 40  poutcome_success               32950 non-null  uint8  \n",
            "dtypes: float64(5), int64(3), uint8(33)\n",
            "memory usage: 3.0 MB\n"
          ],
          "name": "stdout"
        }
      ]
    },
    {
      "cell_type": "code",
      "metadata": {
        "colab": {
          "base_uri": "https://localhost:8080/",
          "height": 282
        },
        "id": "V8smUMI1x9WH",
        "outputId": "5c01995c-e597-4e3b-bad5-60e48f50e5dd"
      },
      "source": [
        "y.hist(grid=False)"
      ],
      "execution_count": 14,
      "outputs": [
        {
          "output_type": "execute_result",
          "data": {
            "text/plain": [
              "<matplotlib.axes._subplots.AxesSubplot at 0x7f88bbdb81d0>"
            ]
          },
          "metadata": {
            "tags": []
          },
          "execution_count": 14
        },
        {
          "output_type": "display_data",
          "data": {
            "image/png": "[encoded data removed]",
            "text/plain": [
              "<Figure size 432x288 with 1 Axes>"
            ]
          },
          "metadata": {
            "tags": [],
            "needs_background": "light"
          }
        }
      ]
    },
    {
      "cell_type": "code",
      "metadata": {
        "colab": {
          "base_uri": "https://localhost:8080/"
        },
        "id": "kozRZtt81kLq",
        "outputId": "4db7bec9-4014-437e-d9d0-95ecb2a4070f"
      },
      "source": [
        "from sklearn.model_selection import train_test_split\n",
        "x_train, x_test, y_train, y_test = train_test_split(x, y)\n",
        "print(f\"Test size is {len(x_test)/len(x):.2f}.\")\n",
        "print(f\"x_train.shape = {x_train.shape},\\t x_test.shape = {x_test.shape},\")\n",
        "print(f\"y_train.shape = {y_train.shape},\\t y_test.shape = {y_test.shape}.\")"
      ],
      "execution_count": 15,
      "outputs": [
        {
          "output_type": "stream",
          "text": [
            "Test size is 0.25.\n",
            "x_train.shape = (24712, 41),\t x_test.shape = (8238, 41),\n",
            "y_train.shape = (24712,),\t y_test.shape = (8238,).\n"
          ],
          "name": "stdout"
        }
      ]
    },
    {
      "cell_type": "code",
      "metadata": {
        "id": "r9XCy7v1GCpZ"
      },
      "source": [
        ""
      ],
      "execution_count": 15,
      "outputs": []
    }
  ]
}