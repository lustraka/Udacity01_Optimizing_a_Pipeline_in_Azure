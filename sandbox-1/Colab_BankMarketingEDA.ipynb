{
  "nbformat": 4,
  "nbformat_minor": 0,
  "metadata": {
    "colab": {
      "name": "Colab-BankMarketingEDA.ipynb",
      "provenance": [],
      "authorship_tag": "ABX9TyPOYDOf3V4g1kFa/E2xhkfH",
      "include_colab_link": true
    },
    "kernelspec": {
      "name": "python3",
      "display_name": "Python 3"
    },
    "language_info": {
      "name": "python"
    }
  },
  "cells": [
    {
      "cell_type": "markdown",
      "metadata": {
        "id": "view-in-github",
        "colab_type": "text"
      },
      "source": [
        "<a href=\"https://colab.research.google.com/github/lustraka/nd00333_AZMLND_Optimizing_a_Pipeline_in_Azure-Starter_Files/blob/master/sandbox-1/Colab_BankMarketingEDA.ipynb\" target=\"_parent\"><img src=\"https://colab.research.google.com/assets/colab-badge.svg\" alt=\"Open In Colab\"/></a>"
      ]
    },
    {
      "cell_type": "code",
      "metadata": {
        "id": "6cuj84qIGgYh"
      },
      "source": [
        "import pandas as pd"
      ],
      "execution_count": 1,
      "outputs": []
    },
    {
      "cell_type": "code",
      "metadata": {
        "id": "-NEvOzjvG345"
      },
      "source": [
        "url_path = \"https://automlsamplenotebookdata.blob.core.windows.net/automl-sample-notebook-data/bankmarketing_train.csv\""
      ],
      "execution_count": 2,
      "outputs": []
    },
    {
      "cell_type": "code",
      "metadata": {
        "colab": {
          "base_uri": "https://localhost:8080/"
        },
        "id": "yWjrb1W9G-ht",
        "outputId": "b7a97124-cd5a-4fe2-c683-5833f329e70b"
      },
      "source": [
        "df = pd.read_csv(url_path)\n",
        "df.info()"
      ],
      "execution_count": 5,
      "outputs": [
        {
          "output_type": "stream",
          "text": [
            "<class 'pandas.core.frame.DataFrame'>\n",
            "RangeIndex: 32950 entries, 0 to 32949\n",
            "Data columns (total 21 columns):\n",
            " #   Column          Non-Null Count  Dtype  \n",
            "---  ------          --------------  -----  \n",
            " 0   age             32950 non-null  int64  \n",
            " 1   job             32950 non-null  object \n",
            " 2   marital         32950 non-null  object \n",
            " 3   education       32950 non-null  object \n",
            " 4   default         32950 non-null  object \n",
            " 5   housing         32950 non-null  object \n",
            " 6   loan            32950 non-null  object \n",
            " 7   contact         32950 non-null  object \n",
            " 8   month           32950 non-null  object \n",
            " 9   day_of_week     32950 non-null  object \n",
            " 10  duration        32950 non-null  int64  \n",
            " 11  campaign        32950 non-null  int64  \n",
            " 12  pdays           32950 non-null  int64  \n",
            " 13  previous        32950 non-null  int64  \n",
            " 14  poutcome        32950 non-null  object \n",
            " 15  emp.var.rate    32950 non-null  float64\n",
            " 16  cons.price.idx  32950 non-null  float64\n",
            " 17  cons.conf.idx   32950 non-null  float64\n",
            " 18  euribor3m       32950 non-null  float64\n",
            " 19  nr.employed     32950 non-null  float64\n",
            " 20  y               32950 non-null  object \n",
            "dtypes: float64(5), int64(5), object(11)\n",
            "memory usage: 5.3+ MB\n"
          ],
          "name": "stdout"
        }
      ]
    },
    {
      "cell_type": "code",
      "metadata": {
        "id": "NyNFAsPUHDuN"
      },
      "source": [
        ""
      ],
      "execution_count": null,
      "outputs": []
    }
  ]
}