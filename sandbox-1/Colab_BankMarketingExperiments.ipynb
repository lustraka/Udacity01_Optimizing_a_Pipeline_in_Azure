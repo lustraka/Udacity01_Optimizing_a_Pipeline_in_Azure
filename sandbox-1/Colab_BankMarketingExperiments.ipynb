{
  "nbformat": 4,
  "nbformat_minor": 0,
  "metadata": {
    "colab": {
      "name": "Colab-BankMarketingExperiments.ipynb",
      "provenance": [],
      "authorship_tag": "ABX9TyOwmyhm2BCFBTIhusQzFxsO",
      "include_colab_link": true
    },
    "kernelspec": {
      "name": "python3",
      "display_name": "Python 3"
    },
    "language_info": {
      "name": "python"
    }
  },
  "cells": [
    {
      "cell_type": "markdown",
      "metadata": {
        "id": "view-in-github",
        "colab_type": "text"
      },
      "source": [
        "<a href=\"https://colab.research.google.com/github/lustraka/nd00333_AZMLND_Optimizing_a_Pipeline_in_Azure-Starter_Files/blob/master/sandbox-1/Colab_BankMarketingExperiments.ipynb\" target=\"_parent\"><img src=\"https://colab.research.google.com/assets/colab-badge.svg\" alt=\"Open In Colab\"/></a>"
      ]
    },
    {
      "cell_type": "code",
      "metadata": {
        "id": "LZoVbxQG_Vkz"
      },
      "source": [
        "import pandas as pd\n",
        "import numpy as np\n",
        "import matplotlib.pyplot as plt"
      ],
      "execution_count": 1,
      "outputs": []
    },
    {
      "cell_type": "code",
      "metadata": {
        "colab": {
          "base_uri": "https://localhost:8080/"
        },
        "id": "t_zxD-4C_lbY",
        "outputId": "896188e2-944d-4959-fe09-ca054e7c56b7"
      },
      "source": [
        "url_path = \"https://automlsamplenotebookdata.blob.core.windows.net/automl-sample-notebook-data/bankmarketing_train.csv\"\n",
        "df = pd.read_csv(url_path)\n",
        "df.shape"
      ],
      "execution_count": 3,
      "outputs": [
        {
          "output_type": "execute_result",
          "data": {
            "text/plain": [
              "(32950, 21)"
            ]
          },
          "metadata": {
            "tags": []
          },
          "execution_count": 3
        }
      ]
    },
    {
      "cell_type": "code",
      "metadata": {
        "colab": {
          "base_uri": "https://localhost:8080/"
        },
        "id": "e7yxWDoz_yjX",
        "outputId": "81624f60-720e-46ea-c0cd-ce5323ceb33a"
      },
      "source": [
        "def get_X_y(data, encode_cat='onehot'):\n",
        "  \"\"\"Prepare features and a target in line with exploratory data analysis.\n",
        "  For `encode_cat` use either 'onehot' or 'label'.\"\"\"\n",
        "  \n",
        "  df = data.copy()\n",
        "\n",
        "  # Separate and encode the target\n",
        "  y = df.pop('y').apply(lambda s: 1 if s == 'yes' else 0)\n",
        "\n",
        "  # Binarize 'pdays' feature, as it doesn't matter how many days passed\n",
        "  # due to prevalence of 'no previous contact' cases (31728)\n",
        "  df['pdays'] = df['pdays'].apply(lambda i: 0 if i == 999 else 1)\n",
        "\n",
        "  # Drop potential data leakage columns including\n",
        "  # high correlated 'duration (of a call)' (coef 0.41).\n",
        "  # Features related with the last contact of the current\n",
        "  # campaign are not known while planning a new campaign!\n",
        "  for col in ['contact', 'month', 'day_of_week', 'duration', 'campaign']:\n",
        "    df.drop(col, axis=1, inplace=True)\n",
        "\n",
        "  # Drop an uninformative column 'default'\n",
        "  # which has only 3 'yes'.\n",
        "  df.drop('default', axis=1, inplace=True)\n",
        "\n",
        "  # Encode the non-numeric columns\n",
        "  for col in df.select_dtypes('object').columns:\n",
        "    if encode_cat == 'onehot':\n",
        "      df = df.join(pd.get_dummies(df[col], prefix=col))\n",
        "      df.drop(col, axis=1, inplace=True)\n",
        "    else:  # Label encoding\n",
        "      df[col], _ = df[col].factorize()\n",
        "\n",
        "  # Return features and the target\n",
        "  return df, y\n",
        "\n",
        "x, y = get_X_y(df, 'onehot')\n",
        "x.shape, y.shape"
      ],
      "execution_count": 4,
      "outputs": [
        {
          "output_type": "execute_result",
          "data": {
            "text/plain": [
              "((32950, 41), (32950,))"
            ]
          },
          "metadata": {
            "tags": []
          },
          "execution_count": 4
        }
      ]
    },
    {
      "cell_type": "code",
      "metadata": {
        "colab": {
          "base_uri": "https://localhost:8080/"
        },
        "id": "XeQQPmd-_jRZ",
        "outputId": "93be396f-7126-4aba-85c2-53dceb80f211"
      },
      "source": [
        "from sklearn.model_selection import train_test_split\n",
        "x_train, x_test, y_train, y_test = train_test_split(x, y)\n",
        "print(f\"Test size is {len(x_test)/len(x):.2f}.\")\n",
        "print(f\"x_train.shape = {x_train.shape},\\t x_test.shape = {x_test.shape},\")\n",
        "print(f\"y_train.shape = {y_train.shape},\\t y_test.shape = {y_test.shape}.\")"
      ],
      "execution_count": 5,
      "outputs": [
        {
          "output_type": "stream",
          "text": [
            "Test size is 0.25.\n",
            "x_train.shape = (24712, 41),\t x_test.shape = (8238, 41),\n",
            "y_train.shape = (24712,),\t y_test.shape = (8238,).\n"
          ],
          "name": "stdout"
        }
      ]
    },
    {
      "cell_type": "markdown",
      "metadata": {
        "id": "K4b7pG31H2zb"
      },
      "source": [
        "# Metrics\n",
        "+ [ROC Curve and AUC](https://developers.google.com/machine-learning/crash-course/classification/roc-and-auc) in Google ML Crash Course provides a short summary with definitions and illustrations.\n",
        "+ [Receiver operating charactistic](https://en.wikipedia.org/wiki/Receiver_operating_characteristic) in Wikipedia gives a comprehensive explanation of the concept.\n",
        "+ [3.3.2.15. Receiver operating characteristic (ROC)](https://scikit-learn.org/stable/modules/model_evaluation.html#roc-metrics) in SciKit Learn informs about a function `roc_curve` and gives a small example."
      ]
    },
    {
      "cell_type": "code",
      "metadata": {
        "id": "OQgtUGCqAaLf"
      },
      "source": [
        "from sklearn.metrics import roc_curve, roc_auc_score\n",
        "\n",
        "def evaluate_clf(x_train, y_train, x_test, y_test, clf):\n",
        "  \"\"\"Evaluate a clasifier and return ROC axes and AUC.\"\"\"\n",
        "\n",
        "  clf.fit(x_train, y_train)\n",
        "  y_score = clf.predict(x_test)\n",
        "  fpr, tpr, tresholds = roc_curve(y_test, y_score)\n",
        "  auc = roc_auc_score(y_test, y_score)\n",
        "  name = str(type(clf)).split('.')[-1].replace(\"'>\",'')\n",
        "\n",
        "  return fpr, tpr, auc, name"
      ],
      "execution_count": 16,
      "outputs": []
    },
    {
      "cell_type": "code",
      "metadata": {
        "id": "dovbbfvRDJIr"
      },
      "source": [
        "def plot_roc_curve(fpr, tpr, auc, name):\n",
        "  \"\"\"Plot ROC curve. Print AUC score.\"\"\"\n",
        "\n",
        "  plt.figure()\n",
        "  plt.xlabel('False Positive Rate')\n",
        "  plt.ylabel('True Positive Rate')\n",
        "  plt.plot(fpr, tpr, label=f\"ROC curve (AUC = {auc:.2f})\")\n",
        "  plt.legend()\n",
        "  plt.title('ROC curve of ' + name)\n",
        "  plt.show()"
      ],
      "execution_count": 17,
      "outputs": []
    },
    {
      "cell_type": "code",
      "metadata": {
        "colab": {
          "base_uri": "https://localhost:8080/",
          "height": 295
        },
        "id": "wglmz2_EMYXB",
        "outputId": "1abc710d-977e-403c-f360-13186bd10dc5"
      },
      "source": [
        "from sklearn.tree import DecisionTreeRegressor\n",
        "clf = DecisionTreeRegressor()\n",
        "plot_roc_curve(*evaluate_clf(x_train, y_train, x_test, y_test, clf))"
      ],
      "execution_count": 18,
      "outputs": [
        {
          "output_type": "display_data",
          "data": {
            "image/png": "[encoded data removed]",
            "text/plain": [
              "<Figure size 432x288 with 1 Axes>"
            ]
          },
          "metadata": {
            "tags": [],
            "needs_background": "light"
          }
        }
      ]
    },
    {
      "cell_type": "code",
      "metadata": {
        "colab": {
          "base_uri": "https://localhost:8080/",
          "height": 295
        },
        "id": "btDmfhrQNzD7",
        "outputId": "d4f5df46-722f-49f8-f817-284dffc21e17"
      },
      "source": [
        "from sklearn.ensemble import RandomForestRegressor\n",
        "clf = RandomForestRegressor()\n",
        "plot_roc_curve(*evaluate_clf(x_train, y_train, x_test, y_test, clf))"
      ],
      "execution_count": 19,
      "outputs": [
        {
          "output_type": "display_data",
          "data": {
            "image/png": "[encoded data removed]",
            "text/plain": [
              "<Figure size 432x288 with 1 Axes>"
            ]
          },
          "metadata": {
            "tags": [],
            "needs_background": "light"
          }
        }
      ]
    },
    {
      "cell_type": "code",
      "metadata": {
        "id": "LK3mnt1twO6G"
      },
      "source": [
        "import requests\n",
        "import ast\n",
        "urls = {\n",
        "    'HyperDrive' : 'https://raw.githubusercontent.com/lustraka/nd00333_AZMLND_Optimizing_a_Pipeline_in_Azure-Starter_Files/master/sandbox-1/best_hdr_run_metrics.txt',\n",
        "    'AutoML' : 'https://raw.githubusercontent.com/lustraka/nd00333_AZMLND_Optimizing_a_Pipeline_in_Azure-Starter_Files/master/sandbox-1/best_aml_run_metrics.txt'\n",
        "}"
      ],
      "execution_count": 31,
      "outputs": []
    },
    {
      "cell_type": "code",
      "metadata": {
        "id": "gyx6PO9k1y10"
      },
      "source": [
        "metrics = {k:ast.literal_eval(requests.get(v).text) for k,v in urls.items()}"
      ],
      "execution_count": 39,
      "outputs": []
    },
    {
      "cell_type": "code",
      "metadata": {
        "id": "yhbMa5OO0cje"
      },
      "source": [
        "urls_details = {\n",
        "    'HyperDrive' : 'https://raw.githubusercontent.com/lustraka/nd00333_AZMLND_Optimizing_a_Pipeline_in_Azure-Starter_Files/master/sandbox-1/best_hdr_run_details.txt',\n",
        "    'AutoML' : 'https://raw.githubusercontent.com/lustraka/nd00333_AZMLND_Optimizing_a_Pipeline_in_Azure-Starter_Files/master/sandbox-1/best_aml_run_details.txt'\n",
        "}\n",
        "details = {k:ast.literal_eval(requests.get(v).text) for k,v in urls_details.items()}"
      ],
      "execution_count": 36,
      "outputs": []
    },
    {
      "cell_type": "code",
      "metadata": {
        "id": "rvYmzsl_3f6Z",
        "outputId": "51e5b2e5-e42d-4281-fade-a7870ef953bf",
        "colab": {
          "base_uri": "https://localhost:8080/"
        }
      },
      "source": [
        "C = metrics['HyperDrive']['Regularization Strength:']\n",
        "max_iter = metrics['HyperDrive']['Max iterations:']\n",
        "C, max_iter"
      ],
      "execution_count": 43,
      "outputs": [
        {
          "output_type": "execute_result",
          "data": {
            "text/plain": [
              "(47.00488472299381, 1000)"
            ]
          },
          "metadata": {
            "tags": []
          },
          "execution_count": 43
        }
      ]
    },
    {
      "cell_type": "code",
      "metadata": {
        "id": "e_2QnghTSxb2",
        "colab": {
          "base_uri": "https://localhost:8080/",
          "height": 295
        },
        "outputId": "2f908cef-ba45-431c-b776-41c0f754f717"
      },
      "source": [
        "from sklearn.linear_model import LogisticRegression\n",
        "clf = LogisticRegression(C=C, max_iter=max_iter)\n",
        "fpr, tpr, auc, name = evaluate_clf(x_train, y_train, x_test, y_test, clf)\n",
        "metrics['HyperDrive']['AUC'] = auc\n",
        "plot_roc_curve(fpr, tpr, auc, name)"
      ],
      "execution_count": 52,
      "outputs": [
        {
          "output_type": "display_data",
          "data": {
            "image/png": "[encoded data removed]",
            "text/plain": [
              "<Figure size 432x288 with 1 Axes>"
            ]
          },
          "metadata": {
            "tags": [],
            "needs_background": "light"
          }
        }
      ]
    },
    {
      "cell_type": "code",
      "metadata": {
        "id": "ZdNgUHePHFJY",
        "colab": {
          "base_uri": "https://localhost:8080/"
        },
        "outputId": "4270f575-ff3f-4895-cdfe-a7cff3d04931"
      },
      "source": [
        "clf.get_params()"
      ],
      "execution_count": 45,
      "outputs": [
        {
          "output_type": "execute_result",
          "data": {
            "text/plain": [
              "{'C': 47.00488472299381,\n",
              " 'class_weight': None,\n",
              " 'dual': False,\n",
              " 'fit_intercept': True,\n",
              " 'intercept_scaling': 1,\n",
              " 'l1_ratio': None,\n",
              " 'max_iter': 1000,\n",
              " 'multi_class': 'auto',\n",
              " 'n_jobs': None,\n",
              " 'penalty': 'l2',\n",
              " 'random_state': None,\n",
              " 'solver': 'lbfgs',\n",
              " 'tol': 0.0001,\n",
              " 'verbose': 0,\n",
              " 'warm_start': False}"
            ]
          },
          "metadata": {
            "tags": []
          },
          "execution_count": 45
        }
      ]
    },
    {
      "cell_type": "code",
      "metadata": {
        "id": "P97mRkJ1HtXp",
        "colab": {
          "base_uri": "https://localhost:8080/",
          "height": 431
        },
        "outputId": "8fc6f068-6274-4b7e-cf52-8eb112827c44"
      },
      "source": [
        "clf = LogisticRegression()\n",
        "plot_roc_curve(*evaluate_clf(x_train, y_train, x_test, y_test, clf))"
      ],
      "execution_count": 46,
      "outputs": [
        {
          "output_type": "stream",
          "text": [
            "/usr/local/lib/python3.7/dist-packages/sklearn/linear_model/_logistic.py:940: ConvergenceWarning: lbfgs failed to converge (status=1):\n",
            "STOP: TOTAL NO. of ITERATIONS REACHED LIMIT.\n",
            "\n",
            "Increase the number of iterations (max_iter) or scale the data as shown in:\n",
            "    https://scikit-learn.org/stable/modules/preprocessing.html\n",
            "Please also refer to the documentation for alternative solver options:\n",
            "    https://scikit-learn.org/stable/modules/linear_model.html#logistic-regression\n",
            "  extra_warning_msg=_LOGISTIC_SOLVER_CONVERGENCE_MSG)\n"
          ],
          "name": "stderr"
        },
        {
          "output_type": "display_data",
          "data": {
            "image/png": "[encoded data removed]",
            "text/plain": [
              "<Figure size 432x288 with 1 Axes>"
            ]
          },
          "metadata": {
            "tags": [],
            "needs_background": "light"
          }
        }
      ]
    },
    {
      "cell_type": "code",
      "metadata": {
        "id": "Osm0G8BFII5w",
        "colab": {
          "base_uri": "https://localhost:8080/"
        },
        "outputId": "3958448f-4e6d-404c-a523-7703a3c1d907"
      },
      "source": [
        "clf.get_params()"
      ],
      "execution_count": 47,
      "outputs": [
        {
          "output_type": "execute_result",
          "data": {
            "text/plain": [
              "{'C': 1.0,\n",
              " 'class_weight': None,\n",
              " 'dual': False,\n",
              " 'fit_intercept': True,\n",
              " 'intercept_scaling': 1,\n",
              " 'l1_ratio': None,\n",
              " 'max_iter': 100,\n",
              " 'multi_class': 'auto',\n",
              " 'n_jobs': None,\n",
              " 'penalty': 'l2',\n",
              " 'random_state': None,\n",
              " 'solver': 'lbfgs',\n",
              " 'tol': 0.0001,\n",
              " 'verbose': 0,\n",
              " 'warm_start': False}"
            ]
          },
          "metadata": {
            "tags": []
          },
          "execution_count": 47
        }
      ]
    },
    {
      "cell_type": "code",
      "metadata": {
        "id": "zOjDi7qn6SFu",
        "outputId": "030b60b8-b6cf-48ec-986c-8e4138dce5bd",
        "colab": {
          "base_uri": "https://localhost:8080/",
          "height": 111
        }
      },
      "source": [
        "pd.DataFrame({\n",
        "    'Accuracy' : [metrics['HyperDrive']['Accuracy'], metrics['AutoML']['accuracy']],\n",
        "    'AUC' : [metrics['HyperDrive']['AUC'], metrics['AutoML']['AUC_weighted']]\n",
        "}, index=['HyperDrive', 'AutoML'])"
      ],
      "execution_count": 62,
      "outputs": [
        {
          "output_type": "execute_result",
          "data": {
            "text/html": [
              "<div>\n",
              "<style scoped>\n",
              "    .dataframe tbody tr th:only-of-type {\n",
              "        vertical-align: middle;\n",
              "    }\n",
              "\n",
              "    .dataframe tbody tr th {\n",
              "        vertical-align: top;\n",
              "    }\n",
              "\n",
              "    .dataframe thead th {\n",
              "        text-align: right;\n",
              "    }\n",
              "</style>\n",
              "<table border=\"1\" class=\"dataframe\">\n",
              "  <thead>\n",
              "    <tr style=\"text-align: right;\">\n",
              "      <th></th>\n",
              "      <th>Accuracy</th>\n",
              "      <th>AUC</th>\n",
              "    </tr>\n",
              "  </thead>\n",
              "  <tbody>\n",
              "    <tr>\n",
              "      <th>HyperDrive</th>\n",
              "      <td>0.898276</td>\n",
              "      <td>0.582695</td>\n",
              "    </tr>\n",
              "    <tr>\n",
              "      <th>AutoML</th>\n",
              "      <td>0.739162</td>\n",
              "      <td>0.797378</td>\n",
              "    </tr>\n",
              "  </tbody>\n",
              "</table>\n",
              "</div>"
            ],
            "text/plain": [
              "            Accuracy       AUC\n",
              "HyperDrive  0.898276  0.582695\n",
              "AutoML      0.739162  0.797378"
            ]
          },
          "metadata": {
            "tags": []
          },
          "execution_count": 62
        }
      ]
    },
    {
      "cell_type": "code",
      "metadata": {
        "id": "WN1luzhkRObu"
      },
      "source": [
        "aml_details = details['AutoML']"
      ],
      "execution_count": 55,
      "outputs": []
    },
    {
      "cell_type": "code",
      "metadata": {
        "id": "QfimIz0-RjvF",
        "colab": {
          "base_uri": "https://localhost:8080/"
        },
        "outputId": "eff12ae4-dece-4b26-f333-779196c0e5f7"
      },
      "source": [
        "import re\n",
        "[x for x in [aml_details['properties']['ensemble_weights'],aml_details['properties']['ensembled_algorithms']]]"
      ],
      "execution_count": 56,
      "outputs": [
        {
          "output_type": "execute_result",
          "data": {
            "text/plain": [
              "['[0.35714285714285715, 0.14285714285714285, 0.07142857142857142, 0.07142857142857142, 0.07142857142857142, 0.07142857142857142, 0.21428571428571427]',\n",
              " \"['XGBoostClassifier', 'LightGBM', 'XGBoostClassifier', 'LightGBM', 'XGBoostClassifier', 'XGBoostClassifier', 'RandomForest']\"]"
            ]
          },
          "metadata": {
            "tags": []
          },
          "execution_count": 56
        }
      ]
    },
    {
      "cell_type": "code",
      "metadata": {
        "id": "txFMwFGlVxL7"
      },
      "source": [
        "ensembled_algorithms = re.findall(r'\\'(.*?)\\'', aml_details['properties']['ensembled_algorithms'])\n",
        "tmp = [re.findall(r'(0.*)[,\\]]', n) for n in aml_details['properties']['ensemble_weights'].split()]\n",
        "ensemble_weights = [float(n[0]) for n in tmp]"
      ],
      "execution_count": 57,
      "outputs": []
    },
    {
      "cell_type": "code",
      "metadata": {
        "id": "W-kXP4tmWx8s",
        "colab": {
          "base_uri": "https://localhost:8080/"
        },
        "outputId": "c331fbfd-81c3-4f25-bb7f-41a2e34a14ac"
      },
      "source": [
        "[len(x) for x in [ensemble_weights, ensembled_algorithms]]"
      ],
      "execution_count": 58,
      "outputs": [
        {
          "output_type": "execute_result",
          "data": {
            "text/plain": [
              "[7, 7]"
            ]
          },
          "metadata": {
            "tags": []
          },
          "execution_count": 58
        }
      ]
    },
    {
      "cell_type": "code",
      "metadata": {
        "id": "2EMBdz0eVDcC",
        "colab": {
          "base_uri": "https://localhost:8080/",
          "height": 266
        },
        "outputId": "98151e1f-1aeb-42b7-a9e9-bfb8d65a9d18"
      },
      "source": [
        "pd.DataFrame({'ensembled_algorithms': ensembled_algorithms, 'ensemble_weights': ensemble_weights}).sort_values(by='ensemble_weights', ascending=False)"
      ],
      "execution_count": 59,
      "outputs": [
        {
          "output_type": "execute_result",
          "data": {
            "text/html": [
              "<div>\n",
              "<style scoped>\n",
              "    .dataframe tbody tr th:only-of-type {\n",
              "        vertical-align: middle;\n",
              "    }\n",
              "\n",
              "    .dataframe tbody tr th {\n",
              "        vertical-align: top;\n",
              "    }\n",
              "\n",
              "    .dataframe thead th {\n",
              "        text-align: right;\n",
              "    }\n",
              "</style>\n",
              "<table border=\"1\" class=\"dataframe\">\n",
              "  <thead>\n",
              "    <tr style=\"text-align: right;\">\n",
              "      <th></th>\n",
              "      <th>ensembled_algorithms</th>\n",
              "      <th>ensemble_weights</th>\n",
              "    </tr>\n",
              "  </thead>\n",
              "  <tbody>\n",
              "    <tr>\n",
              "      <th>0</th>\n",
              "      <td>XGBoostClassifier</td>\n",
              "      <td>0.357143</td>\n",
              "    </tr>\n",
              "    <tr>\n",
              "      <th>6</th>\n",
              "      <td>RandomForest</td>\n",
              "      <td>0.214286</td>\n",
              "    </tr>\n",
              "    <tr>\n",
              "      <th>1</th>\n",
              "      <td>LightGBM</td>\n",
              "      <td>0.142857</td>\n",
              "    </tr>\n",
              "    <tr>\n",
              "      <th>2</th>\n",
              "      <td>XGBoostClassifier</td>\n",
              "      <td>0.071429</td>\n",
              "    </tr>\n",
              "    <tr>\n",
              "      <th>3</th>\n",
              "      <td>LightGBM</td>\n",
              "      <td>0.071429</td>\n",
              "    </tr>\n",
              "    <tr>\n",
              "      <th>4</th>\n",
              "      <td>XGBoostClassifier</td>\n",
              "      <td>0.071429</td>\n",
              "    </tr>\n",
              "    <tr>\n",
              "      <th>5</th>\n",
              "      <td>XGBoostClassifier</td>\n",
              "      <td>0.071429</td>\n",
              "    </tr>\n",
              "  </tbody>\n",
              "</table>\n",
              "</div>"
            ],
            "text/plain": [
              "  ensembled_algorithms  ensemble_weights\n",
              "0    XGBoostClassifier          0.357143\n",
              "6         RandomForest          0.214286\n",
              "1             LightGBM          0.142857\n",
              "2    XGBoostClassifier          0.071429\n",
              "3             LightGBM          0.071429\n",
              "4    XGBoostClassifier          0.071429\n",
              "5    XGBoostClassifier          0.071429"
            ]
          },
          "metadata": {
            "tags": []
          },
          "execution_count": 59
        }
      ]
    },
    {
      "cell_type": "code",
      "metadata": {
        "id": "lTiLYBLq74uT"
      },
      "source": [
        "from xgboost import XGBRegressor\n",
        "from lightgbm import LGBMClassifier"
      ],
      "execution_count": 63,
      "outputs": []
    },
    {
      "cell_type": "code",
      "metadata": {
        "id": "MHqOZLLZ74mT"
      },
      "source": [
        "clfs = [[LogisticRegression(C=C, max_iter=max_iter), XGBRegressor()], [RandomForestRegressor(), LGBMClassifier()]]"
      ],
      "execution_count": 64,
      "outputs": []
    },
    {
      "cell_type": "code",
      "metadata": {
        "id": "l5JbEKVv74cT",
        "outputId": "18a6c690-54fa-4ba8-bf68-16f55a3d3324",
        "colab": {
          "base_uri": "https://localhost:8080/",
          "height": 617
        }
      },
      "source": [
        "def plot_roc_curves(fpr, tpr, auc, name, ax):\n",
        "  \"\"\"Plot ROC curve. Print AUC score.\"\"\"\n",
        "  \n",
        "  ax.set_xlabel('False Positive Rate')\n",
        "  ax.set_ylabel('True Positive Rate')\n",
        "  ax.plot(fpr, tpr, label=f\"ROC curve (AUC = {auc:.2f})\")\n",
        "  ax.legend()\n",
        "  ax.set_title('ROC curve of ' + name)\n",
        "\n",
        "fig, ax = plt.subplots(2,2)\n",
        "fig.set_size_inches(6.4*2, 4.8*2)\n",
        "for i in range(2):\n",
        "  for j in range(2):\n",
        "    ax[i][j] = plot_roc_curves(*evaluate_clf(x_train, y_train, x_test, y_test, clfs[i][j]), ax[i][j])\n",
        "plt.show()"
      ],
      "execution_count": 73,
      "outputs": [
        {
          "output_type": "stream",
          "text": [
            "[07:12:55] WARNING: /workspace/src/objective/regression_obj.cu:152: reg:linear is now deprecated in favor of reg:squarederror.\n"
          ],
          "name": "stdout"
        },
        {
          "output_type": "display_data",
          "data": {
            "image/png": "[encoded data removed]",
            "text/plain": [
              "<Figure size 921.6x691.2 with 4 Axes>"
            ]
          },
          "metadata": {
            "tags": [],
            "needs_background": "light"
          }
        }
      ]
    },
    {
      "cell_type": "code",
      "metadata": {
        "id": "ZhqzrHvIftjm"
      },
      "source": [
        ""
      ],
      "execution_count": null,
      "outputs": []
    }
  ]
}