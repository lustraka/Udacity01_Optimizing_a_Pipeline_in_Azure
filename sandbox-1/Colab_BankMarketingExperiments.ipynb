{
  "nbformat": 4,
  "nbformat_minor": 0,
  "metadata": {
    "colab": {
      "name": "Colab-BankMarketingExperiments.ipynb",
      "provenance": [],
      "authorship_tag": "ABX9TyMXCFmqlFNLm98eg1RlYXH0",
      "include_colab_link": true
    },
    "kernelspec": {
      "name": "python3",
      "display_name": "Python 3"
    },
    "language_info": {
      "name": "python"
    }
  },
  "cells": [
    {
      "cell_type": "markdown",
      "metadata": {
        "id": "view-in-github",
        "colab_type": "text"
      },
      "source": [
        "<a href=\"https://colab.research.google.com/github/lustraka/nd00333_AZMLND_Optimizing_a_Pipeline_in_Azure-Starter_Files/blob/master/sandbox-1/Colab_BankMarketingExperiments.ipynb\" target=\"_parent\"><img src=\"https://colab.research.google.com/assets/colab-badge.svg\" alt=\"Open In Colab\"/></a>"
      ]
    },
    {
      "cell_type": "code",
      "metadata": {
        "id": "LZoVbxQG_Vkz"
      },
      "source": [
        "import pandas as pd\n",
        "import numpy as np\n",
        "import matplotlib.pyplot as plt"
      ],
      "execution_count": 1,
      "outputs": []
    },
    {
      "cell_type": "code",
      "metadata": {
        "colab": {
          "base_uri": "https://localhost:8080/"
        },
        "id": "t_zxD-4C_lbY",
        "outputId": "f13af94d-17a1-477c-9cc0-683ac96d3622"
      },
      "source": [
        "url_path = \"https://automlsamplenotebookdata.blob.core.windows.net/automl-sample-notebook-data/bankmarketing_train.csv\"\n",
        "df = pd.read_csv(url_path)\n",
        "df.shape"
      ],
      "execution_count": 2,
      "outputs": [
        {
          "output_type": "execute_result",
          "data": {
            "text/plain": [
              "(32950, 21)"
            ]
          },
          "metadata": {
            "tags": []
          },
          "execution_count": 2
        }
      ]
    },
    {
      "cell_type": "code",
      "metadata": {
        "colab": {
          "base_uri": "https://localhost:8080/"
        },
        "id": "e7yxWDoz_yjX",
        "outputId": "97f1e9b4-140d-40cb-c47d-b8e46fc930d5"
      },
      "source": [
        "def get_X_y(data, encode_cat='onehot'):\n",
        "  \"\"\"Prepare features and a target in line with exploratory data analysis.\n",
        "  For `encode_cat` use either 'onehot' or 'label'.\"\"\"\n",
        "  \n",
        "  df = data.copy()\n",
        "\n",
        "  # Separate and encode the target\n",
        "  y = df.pop('y').apply(lambda s: 1 if s == 'yes' else 0)\n",
        "\n",
        "  # Binarize 'pdays' feature, as it doesn't matter how many days passed\n",
        "  # due to prevalence of 'no previous contact' cases (31728)\n",
        "  df['pdays'] = df['pdays'].apply(lambda i: 0 if i == 999 else 1)\n",
        "\n",
        "  # Drop potential data leakage columns including\n",
        "  # high correlated 'duration (of a call)' (coef 0.41).\n",
        "  # Features related with the last contact of the current\n",
        "  # campaign are not known while planning a new campaign!\n",
        "  for col in ['contact', 'month', 'day_of_week', 'duration', 'campaign']:\n",
        "    df.drop(col, axis=1, inplace=True)\n",
        "\n",
        "  # Drop an uninformative column 'default'\n",
        "  # which has only 3 'yes'.\n",
        "  df.drop('default', axis=1, inplace=True)\n",
        "\n",
        "  # Encode the non-numeric columns\n",
        "  for col in df.select_dtypes('object').columns:\n",
        "    if encode_cat == 'onehot':\n",
        "      df = df.join(pd.get_dummies(df[col], prefix=col))\n",
        "      df.drop(col, axis=1, inplace=True)\n",
        "    else:  # Label encoding\n",
        "      df[col], _ = df[col].factorize()\n",
        "\n",
        "  # Return features and the target\n",
        "  return df, y\n",
        "\n",
        "x, y = get_X_y(df, 'onehot')\n",
        "x.shape, y.shape"
      ],
      "execution_count": 3,
      "outputs": [
        {
          "output_type": "execute_result",
          "data": {
            "text/plain": [
              "((32950, 41), (32950,))"
            ]
          },
          "metadata": {
            "tags": []
          },
          "execution_count": 3
        }
      ]
    },
    {
      "cell_type": "code",
      "metadata": {
        "colab": {
          "base_uri": "https://localhost:8080/"
        },
        "id": "XeQQPmd-_jRZ",
        "outputId": "e1736e55-b4fb-4033-9c0c-9c2c899b012c"
      },
      "source": [
        "from sklearn.model_selection import train_test_split\n",
        "x_train, x_test, y_train, y_test = train_test_split(x, y)\n",
        "print(f\"Test size is {len(x_test)/len(x):.2f}.\")\n",
        "print(f\"x_train.shape = {x_train.shape},\\t x_test.shape = {x_test.shape},\")\n",
        "print(f\"y_train.shape = {y_train.shape},\\t y_test.shape = {y_test.shape}.\")"
      ],
      "execution_count": 4,
      "outputs": [
        {
          "output_type": "stream",
          "text": [
            "Test size is 0.25.\n",
            "x_train.shape = (24712, 41),\t x_test.shape = (8238, 41),\n",
            "y_train.shape = (24712,),\t y_test.shape = (8238,).\n"
          ],
          "name": "stdout"
        }
      ]
    },
    {
      "cell_type": "markdown",
      "metadata": {
        "id": "K4b7pG31H2zb"
      },
      "source": [
        "# Metrics\n",
        "+ [ROC Curve and AUC](https://developers.google.com/machine-learning/crash-course/classification/roc-and-auc) in Google ML Crash Course provides a short summary with definitions and illustrations.\n",
        "+ [Receiver operating charactistic](https://en.wikipedia.org/wiki/Receiver_operating_characteristic) in Wikipedia gives a comprehensive explanation of the concept.\n",
        "+ [3.3.2.15. Receiver operating characteristic (ROC)](https://scikit-learn.org/stable/modules/model_evaluation.html#roc-metrics) in SciKit Learn informs about a function `roc_curve` and gives a small example."
      ]
    },
    {
      "cell_type": "code",
      "metadata": {
        "id": "OQgtUGCqAaLf"
      },
      "source": [
        "from sklearn.metrics import roc_curve, roc_auc_score\n",
        "\n",
        "def evaluate_clf(x_train, y_train, x_test, y_test, clf):\n",
        "  \"\"\"Evaluate a clasifier and return ROC axes and AUC.\"\"\"\n",
        "\n",
        "  clf.fit(x_train, y_train)\n",
        "  y_score = clf.predict(x_test)\n",
        "  fpr, tpr, tresholds = roc_curve(y_test, y_score)\n",
        "  auc = roc_auc_score(y_test, y_score)\n",
        "\n",
        "  return fpr, tpr, auc"
      ],
      "execution_count": 5,
      "outputs": []
    },
    {
      "cell_type": "code",
      "metadata": {
        "id": "dovbbfvRDJIr"
      },
      "source": [
        "def plot_roc_curve(fpr, tpr, auc):\n",
        "  \"\"\"Plot ROC curve. Print AUC score.\"\"\"\n",
        "\n",
        "  plt.figure()\n",
        "  plt.xlabel('False Positive Rate')\n",
        "  plt.ylabel('True Positive Rate')\n",
        "  plt.plot(fpr, tpr, label=f\"ROC curve (AUC = {auc:.2f})\")\n",
        "  plt.legend()\n",
        "  plt.title('Receiver operating characteristic curve')\n",
        "  plt.show()"
      ],
      "execution_count": 6,
      "outputs": []
    },
    {
      "cell_type": "code",
      "metadata": {
        "colab": {
          "base_uri": "https://localhost:8080/",
          "height": 295
        },
        "id": "wglmz2_EMYXB",
        "outputId": "ad074129-bb95-446f-900e-d85032869354"
      },
      "source": [
        "from sklearn.tree import DecisionTreeRegressor\n",
        "clf = DecisionTreeRegressor()\n",
        "plot_roc_curve(*evaluate_clf(x_train, y_train, x_test, y_test, clf))"
      ],
      "execution_count": 8,
      "outputs": [
        {
          "output_type": "display_data",
          "data": {
            "image/png": "[encoded data removed]",
            "text/plain": [
              "<Figure size 432x288 with 1 Axes>"
            ]
          },
          "metadata": {
            "tags": [],
            "needs_background": "light"
          }
        }
      ]
    },
    {
      "cell_type": "code",
      "metadata": {
        "colab": {
          "base_uri": "https://localhost:8080/",
          "height": 295
        },
        "id": "btDmfhrQNzD7",
        "outputId": "aa30ef68-76b3-4ca9-a09d-417aff3fa3f3"
      },
      "source": [
        "from sklearn.ensemble import RandomForestRegressor\n",
        "clf = RandomForestRegressor()\n",
        "plot_roc_curve(*evaluate_clf(x_train, y_train, x_test, y_test, clf))"
      ],
      "execution_count": 10,
      "outputs": [
        {
          "output_type": "display_data",
          "data": {
            "image/png": "[encoded data removed]",
            "text/plain": [
              "<Figure size 432x288 with 1 Axes>"
            ]
          },
          "metadata": {
            "tags": [],
            "needs_background": "light"
          }
        }
      ]
    },
    {
      "cell_type": "code",
      "metadata": {
        "id": "e_2QnghTSxb2"
      },
      "source": [
        ""
      ],
      "execution_count": 10,
      "outputs": []
    }
  ]
}